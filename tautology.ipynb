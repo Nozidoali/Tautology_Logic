{
 "metadata": {
  "language_info": {
   "codemirror_mode": {
    "name": "ipython",
    "version": 3
   },
   "file_extension": ".py",
   "mimetype": "text/x-python",
   "name": "python",
   "nbconvert_exporter": "python",
   "pygments_lexer": "ipython3",
   "version": "3.6.9-final"
  },
  "orig_nbformat": 2,
  "kernelspec": {
   "name": "python36964bit3c0686b636f642c7b4003db28ac56995",
   "display_name": "Python 3.6.9 64-bit"
  }
 },
 "nbformat": 4,
 "nbformat_minor": 2,
 "cells": [
  {
   "source": [
    "## Step 1: Install the dependencies scripts and python packages\n",
    "In order to ran the whole program, you need:\n",
    "```\n",
    "    abc             # the compiled abc binary file\n",
    "    abc.rc          # the alias of abc\n",
    "    tautology.ipynb # this notebook\n",
    "```\n",
    "\n",
    "Besides, make sure your python version is above 3.4"
   ],
   "cell_type": "markdown",
   "metadata": {}
  },
  {
   "source": [
    "import subprocess\n",
    "import sys\n",
    "import random\n",
    "import os\n",
    "import re\n",
    "import matplotlib.pyplot as plt\n",
    "from tqdm import tqdm\n",
    "if not os.path.exists('abc'):\n",
    "    raise EnvironmentError\n",
    "if not os.path.exists('abc.rc'):\n",
    "    raise EnvironmentError\n",
    "if not os.path.exists('results'):\n",
    "    os.makedirs('results')\n",
    "# for Machine Learning\n",
    "import pandas as pd\n",
    "import numpy as np\n",
    "from sklearn import tree\n",
    "from sklearn.tree import DecisionTreeClassifier"
   ],
   "cell_type": "code",
   "metadata": {},
   "execution_count": 3,
   "outputs": []
  },
  {
   "source": [
    "## Step 2: Define the function\n",
    "Do not modify the function below"
   ],
   "cell_type": "markdown",
   "metadata": {}
  },
  {
   "cell_type": "code",
   "execution_count": 11,
   "metadata": {},
   "outputs": [],
   "source": [
    "def print_tautology_blif(input_size, \n",
    "                         file = 'test.temp', \n",
    "                         shuffle_product = False,\n",
    "                         shuffle_sum = False,\n",
    "                         seq_sum = None):\n",
    "    '''\n",
    "    print_tautology_blif:\n",
    "        1. Generate an tautology logic with <input_size> inputs\n",
    "        2. Write the result to <file>\n",
    "        3. Random Shufle the product if <shuffle_product> is True\n",
    "        4. Random Shufle the sum if <shuffle_sum> is True\n",
    "    '''\n",
    "    with open(file,'w') as f:\n",
    "        f.write('.model test\\n')\n",
    "        f.write('.inputs '+' '.join(['input'+str(index) for index in range(input_size)])+'\\n')\n",
    "        f.write('.outputs out\\n')\n",
    "        # single products in random order\n",
    "        for combination in range(2**input_size):\n",
    "            terms = [*range(input_size)]\n",
    "            if shuffle_product:\n",
    "                random.shuffle(terms)\n",
    "            f.write('.names '+' '.join(['input'+str(index) for index in terms])+' node'+str(combination)+'\\n')\n",
    "            f.write(('{0:0'+str(input_size)+'b}').format(combination)+' 1\\n')\n",
    "        # sum all the products in random order\n",
    "        if seq_sum is None:\n",
    "            seq = [*range(2**input_size)]\n",
    "            if shuffle_sum:\n",
    "                random.shuffle(seq)\n",
    "        else:\n",
    "            seq = seq_sum\n",
    "        f.write('.names '+' '.join(['node'+str(index) for index in seq])+' out\\n')\n",
    "        f.write('0'*(2**input_size)+' 0\\n')\n",
    "        f.write('.end\\n')\n",
    "        return seq\n",
    "def run_synthesis(file, opt_command='compress2rs'):\n",
    "    commands = [\n",
    "        'read_blif {0}'.format(file),\n",
    "        'strash',\n",
    "        'ps',\n",
    "        'write_blif src.temp',\n",
    "        opt_command,\n",
    "        'ps',\n",
    "        'write_blif res.temp'\n",
    "    ]\n",
    "    shell_command = './abc -c \\\"{0}\\\"'.format(';'.join(commands))\n",
    "    return subprocess.getoutput(shell_command)\n",
    "def parse_report(report, verbose = False):\n",
    "    assert report is not None\n",
    "    result = None, None\n",
    "    for report_line in report.split('\\n'):\n",
    "        obj = re.match(r'.*and = (.*) lev = (.*)', report_line, re.M|re.I)\n",
    "        if obj is None:\n",
    "            continue\n",
    "        result = area, level = int(obj.group(1).strip()), int(obj.group(2).strip())\n",
    "        if verbose:\n",
    "            print('area = {0}, level = {1}'.format(area,level))\n",
    "    return result\n",
    "def clean_results():\n",
    "    if os.path.exists('res.temp'):\n",
    "        os.remove('res.temp')\n",
    "    if os.path.exists('src.temp'):\n",
    "        os.remove('src.temp')\n",
    "    if os.path.exists('test.temp'):\n",
    "        os.remove('test.temp')\n",
    "def record_blif(bname):\n",
    "    '''\n",
    "    store the result of source code\n",
    "        <bmark>_src.blif: the input\n",
    "        <bmark>_abc.blif: the result after synthesis of abc\n",
    "    '''\n",
    "    subprocess.run('cat src.temp > results/{0}_src.blif'.format(bname), shell=True)\n",
    "    subprocess.run('cat res.temp > results/{0}_abc.blif'.format(bname), shell=True)\n",
    "def collect_data(episode=1000,\n",
    "                 input_size=6,\n",
    "                 shuffle_product=False,\n",
    "                 shuffle_sum=True):\n",
    "    '''\n",
    "    run <episode> iterations and collect the information of seq, area\n",
    "    '''\n",
    "    number_episode = episode\n",
    "    area_results = []\n",
    "    data_set = []\n",
    "    for _ in tqdm(range(number_episode), ncols = 80):\n",
    "        # generate tautology\n",
    "        seq = print_tautology_blif(input_size = input_size,\n",
    "                            file = 'test.temp',\n",
    "                            shuffle_product = shuffle_product,\n",
    "                            shuffle_sum = shuffle_sum)\n",
    "        # run synthesis\n",
    "        report = run_synthesis(file = 'test.temp',\n",
    "                            opt_command = 'compress2rs')\n",
    "        # parse the report\n",
    "        area, level = parse_report(report)\n",
    "\n",
    "        if area > 0:\n",
    "            record_blif('t5')\n",
    "        area_results.append(area)\n",
    "        data_set.append([seq, area])\n",
    "\n",
    "        # clean the temp files\n",
    "        clean_results()\n",
    "    return data_set\n",
    "def one_hot_encode(sequence, input_size):\n",
    "    code = []\n",
    "    for permutation in sequence:\n",
    "        one_hot = [ int(_) for _ in ('{0:0'+str(input_size)+'b}').format(permutation) ]\n",
    "        code = code + one_hot\n",
    "    return code\n",
    "def process_data(data, input_size, verbose=False):\n",
    "    data_X = []\n",
    "    data_Y = []\n",
    "    for seq, area in data:\n",
    "        data_X.append(one_hot_encode(seq, input_size))\n",
    "        data_Y.append(int(area == 0))\n",
    "    df = pd.DataFrame(data_X)\n",
    "    df['Y'] = data_Y\n",
    "    if verbose:\n",
    "        print('Naive Guess = {0}/{1}'.format(sum(df.Y), len(df.Y)))\n",
    "    return df\n",
    "def train_test_split(dataframe, ratio=0.8):\n",
    "    total_size = len(dataframe)\n",
    "    train_size = round(total_size*ratio)\n",
    "    test_size = total_size - train_size\n",
    "    X_train = dataframe.iloc[:train_size,:-1]\n",
    "    Y_train = dataframe.iloc[:train_size,-1]\n",
    "    X_test = dataframe.iloc[train_size:,:-1]\n",
    "    Y_test = dataframe.iloc[train_size:,-1]\n",
    "    return X_train, X_test, Y_train, Y_test\n",
    "def get_accuracy(Y_pred, Y_test, verbose=False):\n",
    "    error = np.sum(abs(np.array(Y_pred)-np.array(Y_test)))\n",
    "    accuracy = 1-error/float(len(Y_pred))\n",
    "    if verbose:\n",
    "        print('Accu. = {0:02f}%'.format(accuracy*100.0))\n",
    "    return accuracy\n",
    "def decision_tree_train(dataframe, ratio=0.9):\n",
    "    '''\n",
    "    Train the results stored in that dataframe with the train/test split ratio of <ratio>\n",
    "    '''\n",
    "    X_train, X_test, Y_train, Y_test = train_test_split(df, ratio=0.9)\n",
    "    dtree = DecisionTreeClassifier()\n",
    "    dtree.fit(X_train, Y_train)\n",
    "    Y_pred = dtree.predict(X_test)\n",
    "    return get_accuracy(Y_pred, Y_test, verbose=False)"
   ]
  },
  {
   "source": [
    "## Step 3: Run the script  "
   ],
   "cell_type": "markdown",
   "metadata": {}
  },
  {
   "cell_type": "code",
   "execution_count": 5,
   "metadata": {},
   "outputs": [
    {
     "output_type": "stream",
     "name": "stderr",
     "text": [
      "100%|█████████████████████████████████████████| 100/100 [00:06<00:00, 15.44it/s]\n",
      "\n",
      "Naive Guess = 100/100\n",
      "Accu. = 100.000000%\n",
      "\n"
     ]
    }
   ],
   "source": [
    "data_set = collect_data(episode = 100,\n",
    "                        input_size = 5,\n",
    "                        shuffle_product = False,\n",
    "                        shuffle_sum = True)\n",
    "print('\\n')\n",
    "df = process_data(data_set, input_size = 6, verbose = True)\n",
    "accuracy = decision_tree_train(df, ratio = 0.8)\n",
    "print('Accu. = {0:02f}%'.format(accuracy*100.0))\n"
   ]
  },
  {
   "cell_type": "code",
   "execution_count": 6,
   "metadata": {},
   "outputs": [],
   "source": [
    "# in case we find some unexpected results\n",
    "for _ in range(len(df)):\n",
    "    if df.Y[_] == 0:\n",
    "        seq = data_set[_][0]\n",
    "        print_tautology_blif(input_size=5,\n",
    "                             seq_sum=seq)\n",
    "        report = run_synthesis(file = 'test.temp',\n",
    "                                    opt_command = 'compress2rs')\n",
    "        area, level = parse_report(report)\n",
    "        record_blif(bname='t5')\n",
    "        clean_results()\n",
    "        break\n"
   ]
  },
  {
   "cell_type": "code",
   "execution_count": 10,
   "metadata": {},
   "outputs": [],
   "source": [
    "print_tautology_blif(input_size=10, shuffle_product=True, shuffle_sum=True)\n",
    "clean_results()"
   ]
  },
  {
   "cell_type": "code",
   "execution_count": 12,
   "metadata": {},
   "outputs": [
    {
     "output_type": "execute_result",
     "data": {
      "text/plain": [
       "[0, 5, 1, 4, 6, 3, 2, 7]"
      ]
     },
     "metadata": {},
     "execution_count": 12
    }
   ],
   "source": [
    "print_tautology_blif(input_size=3, shuffle_product=True, shuffle_sum=True)\n"
   ]
  },
  {
   "cell_type": "code",
   "execution_count": null,
   "metadata": {},
   "outputs": [],
   "source": []
  }
 ]
}