{
 "metadata": {
  "language_info": {
   "codemirror_mode": {
    "name": "ipython",
    "version": 3
   },
   "file_extension": ".py",
   "mimetype": "text/x-python",
   "name": "python",
   "nbconvert_exporter": "python",
   "pygments_lexer": "ipython3",
   "version": "3.6.9-final"
  },
  "orig_nbformat": 2,
  "kernelspec": {
   "name": "python36964bit3c0686b636f642c7b4003db28ac56995",
   "display_name": "Python 3.6.9 64-bit"
  }
 },
 "nbformat": 4,
 "nbformat_minor": 2,
 "cells": [
  {
   "source": [
    "## Step 1: Install the dependencies scripts and python packages\n",
    "In order to ran the whole program, you need:\n",
    "```\n",
    "    abc             # the compiled abc binary file\n",
    "    abc.rc          # the alias of abc\n",
    "    tautology.ipynb # this notebook\n",
    "```\n",
    "\n",
    "Besides, make sure your python version is above 3.4"
   ],
   "cell_type": "markdown",
   "metadata": {}
  },
  {
   "source": [
    "import subprocess\n",
    "import sys\n",
    "import random\n",
    "import os\n",
    "import re\n",
    "if not os.path.exists('abc'):\n",
    "    raise EnvironmentError\n",
    "if not os.path.exists('abc.rc'):\n",
    "    raise EnvironmentError\n",
    "if not os.path.exists('results'):\n",
    "    os.makedirs('results')"
   ],
   "cell_type": "code",
   "metadata": {},
   "execution_count": 76,
   "outputs": []
  },
  {
   "source": [
    "## Step 2: Define the function\n",
    "Do not modify the function below"
   ],
   "cell_type": "markdown",
   "metadata": {}
  },
  {
   "cell_type": "code",
   "execution_count": 107,
   "metadata": {},
   "outputs": [],
   "source": [
    "def print_tautology_blif(input_size, \n",
    "                         file = 'test.temp', \n",
    "                         shuffle_product = False,\n",
    "                         shuffle_sum = False):\n",
    "    '''\n",
    "    print_tautology_blif:\n",
    "        1. Generate an tautology logic with <input_size> inputs\n",
    "        2. Write the result to <file>\n",
    "        3. Random Shufle the product if <shuffle_product> is True\n",
    "        4. Random Shufle the sum if <shuffle_sum> is True\n",
    "    '''\n",
    "    with open(file,'w') as f:\n",
    "        f.write('.model test\\n')\n",
    "        f.write('.inputs '+' '.join(['input'+str(index) for index in range(input_size)])+'\\n')\n",
    "        f.write('.outputs out\\n')\n",
    "        # single products in random order\n",
    "        seq = [*range(2**input_size)]\n",
    "        if shuffle_product:\n",
    "            random.shuffle(seq)\n",
    "        for combination in seq:\n",
    "            f.write('.names '+' '.join(['input'+str(index) for index in range(input_size)])+' node'+str(combination)+'\\n')\n",
    "            f.write(('{0:0'+str(input_size)+'b}').format(combination)+' 1\\n')\n",
    "        # sum all the products in random order\n",
    "        if shuffle_sum:\n",
    "            random.shuffle(seq)\n",
    "        f.write('.names '+' '.join(['node'+str(index) for index in seq])+' out\\n')\n",
    "        f.write('0'*(2**input_size)+' 0\\n')\n",
    "        f.write('.end\\n')\n",
    "def run_synthesis(file, opt_command='compress2rs'):\n",
    "    commands = [\n",
    "        'read_blif {0}'.format(file),\n",
    "        'strash',\n",
    "        'ps',\n",
    "        'write_blif src.temp',\n",
    "        opt_command,\n",
    "        'ps',\n",
    "        'write_blif res.temp'\n",
    "    ]\n",
    "    shell_command = './abc -c \\\"{0}\\\"'.format(';'.join(commands))\n",
    "    return subprocess.getoutput(shell_command)\n",
    "def parse_report(report):\n",
    "    assert report is not None\n",
    "    for report_line in report.split('\\n'):\n",
    "        obj = re.match(r'.*and = (.*) lev = (.*)', report_line, re.M|re.I)\n",
    "        if obj is None:\n",
    "            continue\n",
    "        area = int(obj.group(1).strip())\n",
    "        level = int(obj.group(2).strip())\n",
    "        print('area = {0}, level = {1}'.format(area,level))\n",
    "    return area, level\n",
    "def clean_results():\n",
    "    if os.path.exists('res.temp'):\n",
    "        os.remove('res.temp')\n",
    "    if os.path.exists('src.temp'):\n",
    "        os.remove('src.temp')\n",
    "    if os.path.exists('test.temp'):\n",
    "        os.remove('test.temp')\n",
    "def record(bname):\n",
    "    '''\n",
    "    store the result of source code\n",
    "        <bmark>_src.blif: the input\n",
    "        <bmark>_abc.blif: the result after synthesis of abc\n",
    "    '''\n",
    "    subprocess.run('cp src.blif results/{0}_src.blif'.format(bname), shell=True)\n",
    "    subprocess.run('cp res.blif results/{0}_abc.blif'.format(bname), shell=True)"
   ]
  },
  {
   "source": [
    "## Step 3: Run the script"
   ],
   "cell_type": "markdown",
   "metadata": {}
  },
  {
   "cell_type": "code",
   "execution_count": 113,
   "metadata": {},
   "outputs": [
    {
     "output_type": "stream",
     "name": "stdout",
     "text": [
      "area = 187, level = 68\narea = 0, level = 0\n"
     ]
    }
   ],
   "source": [
    "# generate tautology\n",
    "print_tautology_blif(input_size = 6,\n",
    "                     file = 'test.temp',\n",
    "                     shuffle_product = False,\n",
    "                     shuffle_sum = False)\n",
    "# run synthesis\n",
    "report = run_synthesis(file = 'test.temp',\n",
    "                       opt_command = 'compress2rs')\n",
    "# parse the report\n",
    "area, level = parse_report(report)\n",
    "# store the result with customed name\n",
    "if area > 0:\n",
    "    record('t6')\n",
    "# clean the temp files\n",
    "clean_results()\n"
   ]
  },
  {
   "cell_type": "code",
   "execution_count": null,
   "metadata": {},
   "outputs": [],
   "source": []
  }
 ]
}